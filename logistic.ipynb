{
 "cells": [
  {
   "cell_type": "raw",
   "metadata": {},
   "source": [
    "Nous allons illustrer la méthode de régression logistique pour le problème de classification binaire.\n",
    "Commençons par importer les modules nécessaires:"
   ]
  },
  {
   "cell_type": "code",
   "execution_count": 1,
   "metadata": {},
   "outputs": [],
   "source": [
    "import numpy as np\n",
    "import matplotlib.pyplot as plt"
   ]
  },
  {
   "cell_type": "raw",
   "metadata": {},
   "source": [
    "Dans cet exemple, nous voulons séparer deux nuages de points X1 et X2, issus de lois gaussiennes:"
   ]
  },
  {
   "cell_type": "code",
   "execution_count": 2,
   "metadata": {},
   "outputs": [],
   "source": [
    "def data(n): \n",
    "    X1 = np.random.multivariate_normal([4, 3], 5*np.eye(2), n)\n",
    "    X2 = np.random.multivariate_normal([-2, -1], 5*np.eye(2), n)\n",
    "    X = np.concatenate((X1, X2))\n",
    "    Y = np.array([0]*n + [1]*n)\n",
    "    p = np.random.permutation(2*n)\n",
    "    return X[p].T, Y[p].T"
   ]
  },
  {
   "cell_type": "code",
   "execution_count": null,
   "metadata": {},
   "outputs": [],
   "source": []
  }
 ],
 "metadata": {
  "kernelspec": {
   "display_name": "Python 3",
   "language": "python",
   "name": "python3"
  },
  "language_info": {
   "codemirror_mode": {
    "name": "ipython",
    "version": 3
   },
   "file_extension": ".py",
   "mimetype": "text/x-python",
   "name": "python",
   "nbconvert_exporter": "python",
   "pygments_lexer": "ipython3",
   "version": "3.7.6"
  }
 },
 "nbformat": 4,
 "nbformat_minor": 4
}
