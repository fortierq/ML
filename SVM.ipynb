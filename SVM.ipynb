{
 "cells": [
  {
   "cell_type": "markdown",
   "metadata": {},
   "source": [
    "# SVM (Support Vector Machine)\n",
    "\n",
    "Soit $X$ un ensemble de données composé de deux classes étiquetées par $Y$ (les étiquettes étant 1 ou -1). <br>\n",
    "SVM est une méthode de classification linéaire. <br>\n",
    "Il sépare des données par un hyperplan qui a pour particularité de maximiser la marge, c'est à dire la distance de l'hyperplan aux données. <br>\n",
    "En définissant un hyperplan affine en dimension $d$ par son équation cartésienne $w^T x + b = 0$ ($x \\in \\mathbb{R}^d$), on peut montrer que l'hyperplan de marge maximum est obtenu par le problème d'optimisation quadratique suivant:\n",
    "$$\\min ~\\lVert w \\rVert^2$$\n",
    "Sous les contraintes:\n",
    "$$\\forall x_i \\in X, ~~y_i(w^T x_i + b) \\geq 1$$\n",
    "La distance d'une donnée $x$ à l'hyperplan est alors $\\frac{\\vert w^T x + b \\vert}{\\lVert w \\rVert} \\geq \\frac{1}{\\lVert w \\rVert}$, maximisé lorsque $\\lVert w \\rVert$ et donc $\\lVert w \\rVert^2$ est minimisé. \n",
    "\n",
    "Voir l'excellent site http://wikistat.fr/ pour plus de détails."
   ]
  },
  {
   "cell_type": "code",
   "execution_count": 8,
   "metadata": {
    "tags": []
   },
   "outputs": [],
   "source": [
    "# pour des figures interactives:\n",
    "%matplotlib widget  \n",
    "\n",
    "import cvxpy as cp # optimisation convexe\n",
    "import matplotlib.pyplot as plt\n",
    "import numpy as np"
   ]
  },
  {
   "cell_type": "code",
   "execution_count": 9,
   "metadata": {
    "tags": []
   },
   "outputs": [],
   "source": [
    "def svm(X, Y, d): \n",
    "    constraints = []\n",
    "    w = cp.Variable(d)\n",
    "    b = cp.Variable(1)\n",
    "    for i in range(len(X)):\n",
    "        constraints.append(Y[i]*(X[i]@w + b) >= 1) # on utilise des vecteurs lignes pour les données\n",
    "    objective = cp.Minimize(cp.sum_squares(w))\n",
    "    prob = cp.Problem(objective, constraints)\n",
    "    result = prob.solve()\n",
    "    return w.value, b.value"
   ]
  },
  {
   "cell_type": "code",
   "execution_count": 10,
   "metadata": {
    "tags": []
   },
   "outputs": [],
   "source": [
    "n, d = 10, 3 # deux classes de n variables gaussiennes en dimension d\n",
    "X1 = np.array([3, 1, 1]) + np.random.randn(n, d)\n",
    "X2 = np.array([-1, -2, -2]) + np.random.randn(n, d) # attention: très léger risque que les données ne soient pas linéairement séparables\n",
    "X = np.concatenate((X1, X2))\n",
    "Y = [1]*n + [-1]*n\n",
    "w_opt, b_opt = svm(X, Y, d)"
   ]
  },
  {
   "cell_type": "code",
   "execution_count": 11,
   "metadata": {
    "tags": []
   },
   "outputs": [
    {
     "output_type": "display_data",
     "data": {
      "text/plain": "Canvas(toolbar=Toolbar(toolitems=[('Home', 'Reset original view', 'home', 'home'), ('Back', 'Back to previous …",
      "application/vnd.jupyter.widget-view+json": {
       "version_major": 2,
       "version_minor": 0,
       "model_id": "7268d9296852483cafd98c948a56df4b"
      }
     },
     "metadata": {}
    },
    {
     "output_type": "execute_result",
     "data": {
      "text/plain": [
       "<mpl_toolkits.mplot3d.art3d.Path3DCollection at 0x7fe819f2bcd0>"
      ]
     },
     "metadata": {},
     "execution_count": 11
    }
   ],
   "source": [
    "x = np.linspace(-5,5,10)\n",
    "y = np.linspace(-5,5,10)\n",
    "X,Y = np.meshgrid(x,y)\n",
    "Z = -(X*w_opt[0] + Y*w_opt[1] + b_opt)/w_opt[2]\n",
    "\n",
    "# avec matplotlib: \n",
    "import matplotlib.pyplot as plt\n",
    "from mpl_toolkits.mplot3d import Axes3D\n",
    "fig = plt.figure()\n",
    "ax = fig.gca(projection='3d')\n",
    "surf = ax.plot_wireframe(X, Y, Z, alpha = .4)\n",
    "ax.scatter(X1[:, 0], X1[:, 1], X1[:, 2])\n",
    "ax.scatter(X2[:, 0], X2[:, 1], X2[:, 2])"
   ]
  },
  {
   "cell_type": "code",
   "execution_count": 12,
   "metadata": {},
   "outputs": [],
   "source": [
    "# import plotly.graph_objects as go # affichage de l'hyperplan avec Plotly\n",
    "\n",
    "# data = [go.Surface(x=X, y=Y, z=Z, colorscale = [[0, \"yellow\"], [1, \"yellow\"]], opacity = .5), \n",
    "#         go.Scatter3d(x=X2[:,0], y=X2[:, 1], z=X2[:, 2], mode='markers'),\n",
    "#         go.Scatter3d(x=X1[:,0], y=X1[:, 1], z=X1[:, 2], mode='markers')]\n",
    "# layout = go.Layout(scene = dict(zaxis= dict(range=[-5,5])), showlegend = False)\n",
    "# fig = go.Figure(data=data, layout=layout)\n",
    "# fig.show()"
   ]
  },
  {
   "cell_type": "code",
   "execution_count": null,
   "metadata": {},
   "outputs": [],
   "source": []
  }
 ],
 "metadata": {
  "kernelspec": {
   "display_name": "Python 3.8.5 64-bit ('env')",
   "language": "python",
   "name": "python38564bitenve7f74bbe0a5a48b7a1a7c09df13d8070"
  },
  "language_info": {
   "codemirror_mode": {
    "name": "ipython",
    "version": 3
   },
   "file_extension": ".py",
   "mimetype": "text/x-python",
   "name": "python",
   "nbconvert_exporter": "python",
   "pygments_lexer": "ipython3",
   "version": "3.8.5-final"
  },
  "widgets": {
   "application/vnd.jupyter.widget-state+json": {
    "state": {},
    "version_major": 2,
    "version_minor": 0
   }
  }
 },
 "nbformat": 4,
 "nbformat_minor": 4
}