{
 "cells": [
  {
   "cell_type": "markdown",
   "metadata": {},
   "source": [
    "## SVM\n",
    "\n",
    "Soit $X$ un ensemble de données composé de deux classes étiquetées par $Y$ (les étiquettes étant 1 ou -1). <br>\n",
    "SVM est une méthode de classification linéaire supervisée. <br>\n",
    "Il sépare des données par un hyperplan qui a pour particularité de maximiser la marge, c'est à dire la distance de l'hyperplan aux données. <br>\n",
    "En définissant un hyperplan affine en dimension $d$ par son équation cartésienne $w^T x + b = 0$ ($x \\in \\mathbb{R}^d$), on peut montrer que l'hyperplan de marge maximum est obtenu par le problème d'optimisation quadratique suivant:\n",
    "$$\\min ~\\lVert w \\rVert^2$$\n",
    "Sous les contraintes:\n",
    "$$\\forall x_i \\in X, ~~y_i(w^T x_i + b) \\geq 1$$\n",
    "La distance d'une donnée $x$ à l'hyperplan est alors $\\frac{\\vert w^T x + b \\vert}{\\lVert w \\rVert} \\geq \\frac{1}{\\lVert w \\rVert}$, maximisé lorsque $\\lVert w \\rVert$ et donc $\\lVert w \\rVert^2$ est minimisé. \n",
    "\n",
    "Voir l'excellent site http://wikistat.fr/ pour plus de détails."
   ]
  },
  {
   "cell_type": "code",
   "execution_count": 1,
   "metadata": {},
   "outputs": [],
   "source": [
    "import cvxpy as cp # optimisation convexe\n",
    "import matplotlib.pyplot as plt\n",
    "import numpy as np"
   ]
  },
  {
   "cell_type": "code",
   "execution_count": 2,
   "metadata": {
    "tags": []
   },
   "outputs": [],
   "source": [
    "def svm(X, Y, d): \n",
    "    constraints = []\n",
    "    w = cp.Variable(d)\n",
    "    b = cp.Variable(1)\n",
    "    for i in range(len(X)):\n",
    "        constraints.append(Y[i]*(X[i]@w + b) >= 1) # on utilise des vecteurs lignes pour les données\n",
    "    objective = cp.Minimize(cp.sum_squares(w))\n",
    "    prob = cp.Problem(objective, constraints)\n",
    "    result = prob.solve()\n",
    "    return w.value, b.value"
   ]
  },
  {
   "cell_type": "code",
   "execution_count": 25,
   "metadata": {
    "tags": []
   },
   "outputs": [],
   "source": [
    "n, d = 10, 3 # deux classes de n variables gaussiennes en dimension d\n",
    "X1 = np.array([3, 1, 1]) + np.random.randn(n, d)\n",
    "X2 = np.array([-1, -2, -2]) + np.random.randn(n, d) # très léger risque que les données ne soient pas linéairement séparables\n",
    "X = np.concatenate((X1, X2))\n",
    "Y = [1]*n + [-1]*n\n",
    "w_opt, b_opt = svm(X, Y, d)"
   ]
  },
  {
   "cell_type": "code",
   "execution_count": 26,
   "metadata": {
    "tags": []
   },
   "outputs": [],
   "source": [
    "x = np.linspace(-5,5,10)\n",
    "y = np.linspace(-5,5,10)\n",
    "X,Y = np.meshgrid(x,y)\n",
    "Z = -(X*w_opt[0] + Y*w_opt[1] + b_opt)/w_opt[2]\n",
    "\n",
    "# avec matplotlib: \n",
    "#import matplotlib.pyplot as plt\n",
    "#from mpl_toolkits.mplot3d import Axes3D\n",
    "#fig = plt.figure()\n",
    "#ax = fig.gca(projection='3d')\n",
    "#surf = ax.plot_surface(X, Y, Z, alpha = .4)\n",
    "#ax.scatter(X1[:, 0], X1[:, 1], X1[:, 2])\n",
    "#ax.scatter(X2[:, 0], X2[:, 1], X2[:, 2])"
   ]
  },
  {
   "cell_type": "code",
   "execution_count": 27,
   "metadata": {},
   "outputs": [
    {
     "output_type": "display_data",
     "data": {
      "application/vnd.plotly.v1+json": {
       "config": {
        "plotlyServerURL": "https://plot.ly"
       },
       "data": [
        {
         "colorscale": [
          [
           0,
           "yellow"
          ],
          [
           1,
           "yellow"
          ]
         ],
         "opacity": 0.5,
         "type": "surface",
         "x": [
          [
           -5,
           -3.888888888888889,
           -2.7777777777777777,
           -1.6666666666666665,
           -0.5555555555555554,
           0.5555555555555554,
           1.666666666666667,
           2.7777777777777786,
           3.8888888888888893,
           5
          ],
          [
           -5,
           -3.888888888888889,
           -2.7777777777777777,
           -1.6666666666666665,
           -0.5555555555555554,
           0.5555555555555554,
           1.666666666666667,
           2.7777777777777786,
           3.8888888888888893,
           5
          ],
          [
           -5,
           -3.888888888888889,
           -2.7777777777777777,
           -1.6666666666666665,
           -0.5555555555555554,
           0.5555555555555554,
           1.666666666666667,
           2.7777777777777786,
           3.8888888888888893,
           5
          ],
          [
           -5,
           -3.888888888888889,
           -2.7777777777777777,
           -1.6666666666666665,
           -0.5555555555555554,
           0.5555555555555554,
           1.666666666666667,
           2.7777777777777786,
           3.8888888888888893,
           5
          ],
          [
           -5,
           -3.888888888888889,
           -2.7777777777777777,
           -1.6666666666666665,
           -0.5555555555555554,
           0.5555555555555554,
           1.666666666666667,
           2.7777777777777786,
           3.8888888888888893,
           5
          ],
          [
           -5,
           -3.888888888888889,
           -2.7777777777777777,
           -1.6666666666666665,
           -0.5555555555555554,
           0.5555555555555554,
           1.666666666666667,
           2.7777777777777786,
           3.8888888888888893,
           5
          ],
          [
           -5,
           -3.888888888888889,
           -2.7777777777777777,
           -1.6666666666666665,
           -0.5555555555555554,
           0.5555555555555554,
           1.666666666666667,
           2.7777777777777786,
           3.8888888888888893,
           5
          ],
          [
           -5,
           -3.888888888888889,
           -2.7777777777777777,
           -1.6666666666666665,
           -0.5555555555555554,
           0.5555555555555554,
           1.666666666666667,
           2.7777777777777786,
           3.8888888888888893,
           5
          ],
          [
           -5,
           -3.888888888888889,
           -2.7777777777777777,
           -1.6666666666666665,
           -0.5555555555555554,
           0.5555555555555554,
           1.666666666666667,
           2.7777777777777786,
           3.8888888888888893,
           5
          ],
          [
           -5,
           -3.888888888888889,
           -2.7777777777777777,
           -1.6666666666666665,
           -0.5555555555555554,
           0.5555555555555554,
           1.666666666666667,
           2.7777777777777786,
           3.8888888888888893,
           5
          ]
         ],
         "y": [
          [
           -5,
           -5,
           -5,
           -5,
           -5,
           -5,
           -5,
           -5,
           -5,
           -5
          ],
          [
           -3.888888888888889,
           -3.888888888888889,
           -3.888888888888889,
           -3.888888888888889,
           -3.888888888888889,
           -3.888888888888889,
           -3.888888888888889,
           -3.888888888888889,
           -3.888888888888889,
           -3.888888888888889
          ],
          [
           -2.7777777777777777,
           -2.7777777777777777,
           -2.7777777777777777,
           -2.7777777777777777,
           -2.7777777777777777,
           -2.7777777777777777,
           -2.7777777777777777,
           -2.7777777777777777,
           -2.7777777777777777,
           -2.7777777777777777
          ],
          [
           -1.6666666666666665,
           -1.6666666666666665,
           -1.6666666666666665,
           -1.6666666666666665,
           -1.6666666666666665,
           -1.6666666666666665,
           -1.6666666666666665,
           -1.6666666666666665,
           -1.6666666666666665,
           -1.6666666666666665
          ],
          [
           -0.5555555555555554,
           -0.5555555555555554,
           -0.5555555555555554,
           -0.5555555555555554,
           -0.5555555555555554,
           -0.5555555555555554,
           -0.5555555555555554,
           -0.5555555555555554,
           -0.5555555555555554,
           -0.5555555555555554
          ],
          [
           0.5555555555555554,
           0.5555555555555554,
           0.5555555555555554,
           0.5555555555555554,
           0.5555555555555554,
           0.5555555555555554,
           0.5555555555555554,
           0.5555555555555554,
           0.5555555555555554,
           0.5555555555555554
          ],
          [
           1.666666666666667,
           1.666666666666667,
           1.666666666666667,
           1.666666666666667,
           1.666666666666667,
           1.666666666666667,
           1.666666666666667,
           1.666666666666667,
           1.666666666666667,
           1.666666666666667
          ],
          [
           2.7777777777777786,
           2.7777777777777786,
           2.7777777777777786,
           2.7777777777777786,
           2.7777777777777786,
           2.7777777777777786,
           2.7777777777777786,
           2.7777777777777786,
           2.7777777777777786,
           2.7777777777777786
          ],
          [
           3.8888888888888893,
           3.8888888888888893,
           3.8888888888888893,
           3.8888888888888893,
           3.8888888888888893,
           3.8888888888888893,
           3.8888888888888893,
           3.8888888888888893,
           3.8888888888888893,
           3.8888888888888893
          ],
          [
           5,
           5,
           5,
           5,
           5,
           5,
           5,
           5,
           5,
           5
          ]
         ],
         "z": [
          [
           10.703007031935119,
           8.821836363017658,
           6.940665694100197,
           5.059495025182735,
           3.1783243562652737,
           1.2971536873478122,
           -0.5840169815696497,
           -2.465187650487113,
           -4.346358319404573,
           -6.227528988322034
          ],
          [
           10.299884065101235,
           8.418713396183772,
           6.5375427272663105,
           4.656372058348849,
           2.7752013894313876,
           0.8940307205139266,
           -0.9871399484035355,
           -2.868310617320998,
           -4.749481286238459,
           -6.630651955155919
          ],
          [
           9.896761098267346,
           8.015590429349885,
           6.134419760432425,
           4.253249091514964,
           2.372078422597502,
           0.4909077536800409,
           -1.390262915237421,
           -3.2714335841548836,
           -5.152604253072345,
           -7.033774921989806
          ],
          [
           9.493638131433462,
           7.612467462516,
           5.73129679359854,
           3.850126124681078,
           1.968955455763616,
           0.08778478684615526,
           -1.793385882071307,
           -3.6745565509887697,
           -5.55572721990623,
           -7.436897888823691
          ],
          [
           9.090515164599577,
           7.2093444956821156,
           5.328173826764654,
           3.447003157847192,
           1.5658324889297304,
           -0.3153381799877304,
           -2.1965088489051925,
           -4.077679517822656,
           -5.958850186740116,
           -7.840020855657576
          ],
          [
           8.687392197765691,
           6.806221528848229,
           4.925050859930768,
           3.0438801910133066,
           1.162709522095845,
           -0.718461146821616,
           -2.599631815739078,
           -4.480802484656541,
           -6.361973153574002,
           -8.243143822491463
          ],
          [
           8.284269230931805,
           6.4030985620143435,
           4.5219278930968825,
           2.64075722417942,
           0.7595865552619592,
           -1.1215841136555018,
           -3.0027547825729637,
           -4.883925451490427,
           -6.765096120407887,
           -8.646266789325347
          ],
          [
           7.881146264097919,
           5.999975595180457,
           4.118804926262997,
           2.2376342573455346,
           0.3564635884280732,
           -1.5247070804893879,
           -3.40587774940685,
           -5.2870484183243125,
           -7.1682190872417735,
           -9.049389756159234
          ],
          [
           7.478023297264034,
           5.596852628346572,
           3.715681959429111,
           1.8345112905116492,
           -0.04665937840581235,
           -1.927830047323273,
           -3.8090007162407353,
           -5.690171385158198,
           -7.571342054075659,
           -9.45251272299312
          ],
          [
           7.0749003304301485,
           5.193729661512687,
           3.3125589925952252,
           1.4313883236777636,
           -0.4497823452396979,
           -2.330953014157159,
           -4.212123683074621,
           -6.093294351992084,
           -7.974465020909544,
           -9.855635689827007
          ]
         ]
        },
        {
         "mode": "markers",
         "type": "scatter3d",
         "x": [
          -1.1395898980884993,
          -0.9538729626244263,
          -1.0843652805422146,
          -1.4886709285237858,
          -1.2186233757325196,
          0.94396651756366,
          -1.1927439109291273,
          -1.4881090304674425,
          -2.387453914278794,
          0.6700903123044972
         ],
         "y": [
          -1.4959747749171002,
          -3.1507134965708468,
          -3.8421051304918024,
          -1.9916876103295398,
          -2.5953242665791603,
          -1.3746447168440514,
          -1.8476236875665957,
          -3.069779433065809,
          -2.1734626840496793,
          -1.5246082693056817
         ],
         "z": [
          -2.1663882630101616,
          0.7593546309947667,
          -2.1207774354531392,
          -1.999882871627757,
          -3.123677325491559,
          -3.0981660412103387,
          -1.9943143165511836,
          -3.2544131578895277,
          -1.8982495251202631,
          -3.392031005772135
         ]
        },
        {
         "mode": "markers",
         "type": "scatter3d",
         "x": [
          2.6358979258008586,
          4.514665442638311,
          2.9976003110705975,
          3.946520500237584,
          3.8147441390288153,
          2.1435852499123946,
          2.0941503346045742,
          3.074158980228866,
          1.3752244013393986,
          3.508466131387965
         ],
         "y": [
          1.1286686530353127,
          -0.2677376449863076,
          1.1052492884763283,
          1.8418520900077993,
          1.4766716708036123,
          1.0804219669495314,
          0.18597253786230528,
          0.8616252939790299,
          -2.4513919924241154,
          2.960594218731073
         ],
         "z": [
          1.1039670297072828,
          0.5939608282174953,
          0.4044649432039178,
          0.8472121883912027,
          3.2551955792316547,
          0.809481527518988,
          2.505892836879017,
          0.872037875957262,
          1.407149786794288,
          0.43399781262450776
         ]
        }
       ],
       "layout": {
        "scene": {
         "zaxis": {
          "range": [
           -5,
           5
          ]
         }
        },
        "showlegend": false,
        "template": {
         "data": {
          "bar": [
           {
            "error_x": {
             "color": "#2a3f5f"
            },
            "error_y": {
             "color": "#2a3f5f"
            },
            "marker": {
             "line": {
              "color": "#E5ECF6",
              "width": 0.5
             }
            },
            "type": "bar"
           }
          ],
          "barpolar": [
           {
            "marker": {
             "line": {
              "color": "#E5ECF6",
              "width": 0.5
             }
            },
            "type": "barpolar"
           }
          ],
          "carpet": [
           {
            "aaxis": {
             "endlinecolor": "#2a3f5f",
             "gridcolor": "white",
             "linecolor": "white",
             "minorgridcolor": "white",
             "startlinecolor": "#2a3f5f"
            },
            "baxis": {
             "endlinecolor": "#2a3f5f",
             "gridcolor": "white",
             "linecolor": "white",
             "minorgridcolor": "white",
             "startlinecolor": "#2a3f5f"
            },
            "type": "carpet"
           }
          ],
          "choropleth": [
           {
            "colorbar": {
             "outlinewidth": 0,
             "ticks": ""
            },
            "type": "choropleth"
           }
          ],
          "contour": [
           {
            "colorbar": {
             "outlinewidth": 0,
             "ticks": ""
            },
            "colorscale": [
             [
              0,
              "#0d0887"
             ],
             [
              0.1111111111111111,
              "#46039f"
             ],
             [
              0.2222222222222222,
              "#7201a8"
             ],
             [
              0.3333333333333333,
              "#9c179e"
             ],
             [
              0.4444444444444444,
              "#bd3786"
             ],
             [
              0.5555555555555556,
              "#d8576b"
             ],
             [
              0.6666666666666666,
              "#ed7953"
             ],
             [
              0.7777777777777778,
              "#fb9f3a"
             ],
             [
              0.8888888888888888,
              "#fdca26"
             ],
             [
              1,
              "#f0f921"
             ]
            ],
            "type": "contour"
           }
          ],
          "contourcarpet": [
           {
            "colorbar": {
             "outlinewidth": 0,
             "ticks": ""
            },
            "type": "contourcarpet"
           }
          ],
          "heatmap": [
           {
            "colorbar": {
             "outlinewidth": 0,
             "ticks": ""
            },
            "colorscale": [
             [
              0,
              "#0d0887"
             ],
             [
              0.1111111111111111,
              "#46039f"
             ],
             [
              0.2222222222222222,
              "#7201a8"
             ],
             [
              0.3333333333333333,
              "#9c179e"
             ],
             [
              0.4444444444444444,
              "#bd3786"
             ],
             [
              0.5555555555555556,
              "#d8576b"
             ],
             [
              0.6666666666666666,
              "#ed7953"
             ],
             [
              0.7777777777777778,
              "#fb9f3a"
             ],
             [
              0.8888888888888888,
              "#fdca26"
             ],
             [
              1,
              "#f0f921"
             ]
            ],
            "type": "heatmap"
           }
          ],
          "heatmapgl": [
           {
            "colorbar": {
             "outlinewidth": 0,
             "ticks": ""
            },
            "colorscale": [
             [
              0,
              "#0d0887"
             ],
             [
              0.1111111111111111,
              "#46039f"
             ],
             [
              0.2222222222222222,
              "#7201a8"
             ],
             [
              0.3333333333333333,
              "#9c179e"
             ],
             [
              0.4444444444444444,
              "#bd3786"
             ],
             [
              0.5555555555555556,
              "#d8576b"
             ],
             [
              0.6666666666666666,
              "#ed7953"
             ],
             [
              0.7777777777777778,
              "#fb9f3a"
             ],
             [
              0.8888888888888888,
              "#fdca26"
             ],
             [
              1,
              "#f0f921"
             ]
            ],
            "type": "heatmapgl"
           }
          ],
          "histogram": [
           {
            "marker": {
             "colorbar": {
              "outlinewidth": 0,
              "ticks": ""
             }
            },
            "type": "histogram"
           }
          ],
          "histogram2d": [
           {
            "colorbar": {
             "outlinewidth": 0,
             "ticks": ""
            },
            "colorscale": [
             [
              0,
              "#0d0887"
             ],
             [
              0.1111111111111111,
              "#46039f"
             ],
             [
              0.2222222222222222,
              "#7201a8"
             ],
             [
              0.3333333333333333,
              "#9c179e"
             ],
             [
              0.4444444444444444,
              "#bd3786"
             ],
             [
              0.5555555555555556,
              "#d8576b"
             ],
             [
              0.6666666666666666,
              "#ed7953"
             ],
             [
              0.7777777777777778,
              "#fb9f3a"
             ],
             [
              0.8888888888888888,
              "#fdca26"
             ],
             [
              1,
              "#f0f921"
             ]
            ],
            "type": "histogram2d"
           }
          ],
          "histogram2dcontour": [
           {
            "colorbar": {
             "outlinewidth": 0,
             "ticks": ""
            },
            "colorscale": [
             [
              0,
              "#0d0887"
             ],
             [
              0.1111111111111111,
              "#46039f"
             ],
             [
              0.2222222222222222,
              "#7201a8"
             ],
             [
              0.3333333333333333,
              "#9c179e"
             ],
             [
              0.4444444444444444,
              "#bd3786"
             ],
             [
              0.5555555555555556,
              "#d8576b"
             ],
             [
              0.6666666666666666,
              "#ed7953"
             ],
             [
              0.7777777777777778,
              "#fb9f3a"
             ],
             [
              0.8888888888888888,
              "#fdca26"
             ],
             [
              1,
              "#f0f921"
             ]
            ],
            "type": "histogram2dcontour"
           }
          ],
          "mesh3d": [
           {
            "colorbar": {
             "outlinewidth": 0,
             "ticks": ""
            },
            "type": "mesh3d"
           }
          ],
          "parcoords": [
           {
            "line": {
             "colorbar": {
              "outlinewidth": 0,
              "ticks": ""
             }
            },
            "type": "parcoords"
           }
          ],
          "pie": [
           {
            "automargin": true,
            "type": "pie"
           }
          ],
          "scatter": [
           {
            "marker": {
             "colorbar": {
              "outlinewidth": 0,
              "ticks": ""
             }
            },
            "type": "scatter"
           }
          ],
          "scatter3d": [
           {
            "line": {
             "colorbar": {
              "outlinewidth": 0,
              "ticks": ""
             }
            },
            "marker": {
             "colorbar": {
              "outlinewidth": 0,
              "ticks": ""
             }
            },
            "type": "scatter3d"
           }
          ],
          "scattercarpet": [
           {
            "marker": {
             "colorbar": {
              "outlinewidth": 0,
              "ticks": ""
             }
            },
            "type": "scattercarpet"
           }
          ],
          "scattergeo": [
           {
            "marker": {
             "colorbar": {
              "outlinewidth": 0,
              "ticks": ""
             }
            },
            "type": "scattergeo"
           }
          ],
          "scattergl": [
           {
            "marker": {
             "colorbar": {
              "outlinewidth": 0,
              "ticks": ""
             }
            },
            "type": "scattergl"
           }
          ],
          "scattermapbox": [
           {
            "marker": {
             "colorbar": {
              "outlinewidth": 0,
              "ticks": ""
             }
            },
            "type": "scattermapbox"
           }
          ],
          "scatterpolar": [
           {
            "marker": {
             "colorbar": {
              "outlinewidth": 0,
              "ticks": ""
             }
            },
            "type": "scatterpolar"
           }
          ],
          "scatterpolargl": [
           {
            "marker": {
             "colorbar": {
              "outlinewidth": 0,
              "ticks": ""
             }
            },
            "type": "scatterpolargl"
           }
          ],
          "scatterternary": [
           {
            "marker": {
             "colorbar": {
              "outlinewidth": 0,
              "ticks": ""
             }
            },
            "type": "scatterternary"
           }
          ],
          "surface": [
           {
            "colorbar": {
             "outlinewidth": 0,
             "ticks": ""
            },
            "colorscale": [
             [
              0,
              "#0d0887"
             ],
             [
              0.1111111111111111,
              "#46039f"
             ],
             [
              0.2222222222222222,
              "#7201a8"
             ],
             [
              0.3333333333333333,
              "#9c179e"
             ],
             [
              0.4444444444444444,
              "#bd3786"
             ],
             [
              0.5555555555555556,
              "#d8576b"
             ],
             [
              0.6666666666666666,
              "#ed7953"
             ],
             [
              0.7777777777777778,
              "#fb9f3a"
             ],
             [
              0.8888888888888888,
              "#fdca26"
             ],
             [
              1,
              "#f0f921"
             ]
            ],
            "type": "surface"
           }
          ],
          "table": [
           {
            "cells": {
             "fill": {
              "color": "#EBF0F8"
             },
             "line": {
              "color": "white"
             }
            },
            "header": {
             "fill": {
              "color": "#C8D4E3"
             },
             "line": {
              "color": "white"
             }
            },
            "type": "table"
           }
          ]
         },
         "layout": {
          "annotationdefaults": {
           "arrowcolor": "#2a3f5f",
           "arrowhead": 0,
           "arrowwidth": 1
          },
          "coloraxis": {
           "colorbar": {
            "outlinewidth": 0,
            "ticks": ""
           }
          },
          "colorscale": {
           "diverging": [
            [
             0,
             "#8e0152"
            ],
            [
             0.1,
             "#c51b7d"
            ],
            [
             0.2,
             "#de77ae"
            ],
            [
             0.3,
             "#f1b6da"
            ],
            [
             0.4,
             "#fde0ef"
            ],
            [
             0.5,
             "#f7f7f7"
            ],
            [
             0.6,
             "#e6f5d0"
            ],
            [
             0.7,
             "#b8e186"
            ],
            [
             0.8,
             "#7fbc41"
            ],
            [
             0.9,
             "#4d9221"
            ],
            [
             1,
             "#276419"
            ]
           ],
           "sequential": [
            [
             0,
             "#0d0887"
            ],
            [
             0.1111111111111111,
             "#46039f"
            ],
            [
             0.2222222222222222,
             "#7201a8"
            ],
            [
             0.3333333333333333,
             "#9c179e"
            ],
            [
             0.4444444444444444,
             "#bd3786"
            ],
            [
             0.5555555555555556,
             "#d8576b"
            ],
            [
             0.6666666666666666,
             "#ed7953"
            ],
            [
             0.7777777777777778,
             "#fb9f3a"
            ],
            [
             0.8888888888888888,
             "#fdca26"
            ],
            [
             1,
             "#f0f921"
            ]
           ],
           "sequentialminus": [
            [
             0,
             "#0d0887"
            ],
            [
             0.1111111111111111,
             "#46039f"
            ],
            [
             0.2222222222222222,
             "#7201a8"
            ],
            [
             0.3333333333333333,
             "#9c179e"
            ],
            [
             0.4444444444444444,
             "#bd3786"
            ],
            [
             0.5555555555555556,
             "#d8576b"
            ],
            [
             0.6666666666666666,
             "#ed7953"
            ],
            [
             0.7777777777777778,
             "#fb9f3a"
            ],
            [
             0.8888888888888888,
             "#fdca26"
            ],
            [
             1,
             "#f0f921"
            ]
           ]
          },
          "colorway": [
           "#636efa",
           "#EF553B",
           "#00cc96",
           "#ab63fa",
           "#FFA15A",
           "#19d3f3",
           "#FF6692",
           "#B6E880",
           "#FF97FF",
           "#FECB52"
          ],
          "font": {
           "color": "#2a3f5f"
          },
          "geo": {
           "bgcolor": "white",
           "lakecolor": "white",
           "landcolor": "#E5ECF6",
           "showlakes": true,
           "showland": true,
           "subunitcolor": "white"
          },
          "hoverlabel": {
           "align": "left"
          },
          "hovermode": "closest",
          "mapbox": {
           "style": "light"
          },
          "paper_bgcolor": "white",
          "plot_bgcolor": "#E5ECF6",
          "polar": {
           "angularaxis": {
            "gridcolor": "white",
            "linecolor": "white",
            "ticks": ""
           },
           "bgcolor": "#E5ECF6",
           "radialaxis": {
            "gridcolor": "white",
            "linecolor": "white",
            "ticks": ""
           }
          },
          "scene": {
           "xaxis": {
            "backgroundcolor": "#E5ECF6",
            "gridcolor": "white",
            "gridwidth": 2,
            "linecolor": "white",
            "showbackground": true,
            "ticks": "",
            "zerolinecolor": "white"
           },
           "yaxis": {
            "backgroundcolor": "#E5ECF6",
            "gridcolor": "white",
            "gridwidth": 2,
            "linecolor": "white",
            "showbackground": true,
            "ticks": "",
            "zerolinecolor": "white"
           },
           "zaxis": {
            "backgroundcolor": "#E5ECF6",
            "gridcolor": "white",
            "gridwidth": 2,
            "linecolor": "white",
            "showbackground": true,
            "ticks": "",
            "zerolinecolor": "white"
           }
          },
          "shapedefaults": {
           "line": {
            "color": "#2a3f5f"
           }
          },
          "ternary": {
           "aaxis": {
            "gridcolor": "white",
            "linecolor": "white",
            "ticks": ""
           },
           "baxis": {
            "gridcolor": "white",
            "linecolor": "white",
            "ticks": ""
           },
           "bgcolor": "#E5ECF6",
           "caxis": {
            "gridcolor": "white",
            "linecolor": "white",
            "ticks": ""
           }
          },
          "title": {
           "x": 0.05
          },
          "xaxis": {
           "automargin": true,
           "gridcolor": "white",
           "linecolor": "white",
           "ticks": "",
           "title": {
            "standoff": 15
           },
           "zerolinecolor": "white",
           "zerolinewidth": 2
          },
          "yaxis": {
           "automargin": true,
           "gridcolor": "white",
           "linecolor": "white",
           "ticks": "",
           "title": {
            "standoff": 15
           },
           "zerolinecolor": "white",
           "zerolinewidth": 2
          }
         }
        }
       }
      }
     },
     "metadata": {}
    }
   ],
   "source": [
    "import plotly.graph_objects as go # affichage de l'hyperplan avec Plotly\n",
    "\n",
    "data = [go.Surface(x=X, y=Y, z=Z, colorscale = [[0, \"yellow\"], [1, \"yellow\"]], opacity = .5), \n",
    "        go.Scatter3d(x=X2[:,0], y=X2[:, 1], z=X2[:, 2], mode='markers'),\n",
    "        go.Scatter3d(x=X1[:,0], y=X1[:, 1], z=X1[:, 2], mode='markers')]\n",
    "layout = go.Layout(scene = dict(zaxis= dict(range=[-5,5])), showlegend = False)\n",
    "fig = go.Figure(data=data, layout=layout)\n",
    "fig.show()"
   ]
  }
 ],
 "metadata": {
  "kernelspec": {
   "display_name": "Python 3",
   "language": "python",
   "name": "python3"
  },
  "language_info": {
   "codemirror_mode": {
    "name": "ipython",
    "version": 3
   },
   "file_extension": ".py",
   "mimetype": "text/x-python",
   "name": "python",
   "nbconvert_exporter": "python",
   "pygments_lexer": "ipython3",
   "version": "3.8.2-final"
  }
 },
 "nbformat": 4,
 "nbformat_minor": 4
}