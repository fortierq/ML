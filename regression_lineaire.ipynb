{
 "metadata": {
  "language_info": {
   "codemirror_mode": {
    "name": "ipython",
    "version": 3
   },
   "file_extension": ".py",
   "mimetype": "text/x-python",
   "name": "python",
   "nbconvert_exporter": "python",
   "pygments_lexer": "ipython3",
   "version": "3.8.5-final"
  },
  "orig_nbformat": 2,
  "kernelspec": {
   "name": "python3",
   "display_name": "Python 3"
  }
 },
 "nbformat": 4,
 "nbformat_minor": 2,
 "cells": [
  {
   "cell_type": "code",
   "execution_count": 21,
   "metadata": {},
   "outputs": [],
   "source": [
    "%matplotlib widget\n",
    "!pip install pympl\n",
    "import numpy as np\n",
    "import matplotlib.pyplot as plt\n",
    "from ipywidgets import interact"
   ]
  },
  {
   "cell_type": "code",
   "execution_count": 26,
   "metadata": {},
   "outputs": [],
   "source": [
    "n = 10\n",
    "X = np.linspace(0, 4, n)\n",
    "Y = np.random.normal(np.sin(X), 0.5, size = (1, n))\n",
    "p = n //2"
   ]
  },
  {
   "cell_type": "code",
   "execution_count": 49,
   "metadata": {},
   "outputs": [
    {
     "output_type": "display_data",
     "data": {
      "text/plain": "Canvas(toolbar=Toolbar(toolitems=[('Home', 'Reset original view', 'home', 'home'), ('Back', 'Back to previous …",
      "application/vnd.jupyter.widget-view+json": {
       "version_major": 2,
       "version_minor": 0,
       "model_id": "5515c6faac604bb2b84b38ea92470dd2"
      }
     },
     "metadata": {}
    },
    {
     "output_type": "display_data",
     "data": {
      "text/plain": "interactive(children=(IntSlider(value=5, description='p', max=9), Output()), _dom_classes=('widget-interact',)…",
      "application/vnd.jupyter.widget-view+json": {
       "version_major": 2,
       "version_minor": 0,
       "model_id": "6be03e3217d84d8fa79b974022ca6b57"
      }
     },
     "metadata": {}
    }
   ],
   "source": [
    "def normale_eq(Y, M, p):\n",
    "    return np.linalg.inv(M @ M.T + 0.01*np.eye(p)) @ M @ Y.T\n",
    "\n",
    "def f(W, X):\n",
    "    return np.sum(W[i]*X**i for i in range(len(W)))\n",
    "\n",
    "M = [np.array([X**k for k in range(p)]) for p in range(1, n+1)]\n",
    "W = [normale_eq(Y, M[p], p+1) for p in range(n)]\n",
    "X_plot = np.linspace(0, 4, 100)\n",
    "sinX = np.sin(X_plot)\n",
    "Y_plot = [f(W[p], X_plot) for p in range(n)]\n",
    "erreur_test = [np.sum((Y_plot[p] - sinX)**2) for p in range(n)]\n",
    "erreur_train = [np.sum((f(W[p], X) - Y)**2) for p in range(n)]\n",
    "\n",
    "fig = plt.figure(figsize=(10,4))\n",
    "ax1 = plt.subplot(121)\n",
    "ax1.scatter(X, Y, label = \"Données\")\n",
    "ax1.plot(X_plot, sinX, linestyle='dotted', color=\"red\", label = \"sin\")\n",
    "plot_pred, = ax1.plot(X_plot, Y_plot[p], label = \"Prédiction\")\n",
    "\n",
    "ax2 = fig.add_subplot(122)\n",
    "ax2.plot(np.arange(n), erreur_test, label = \"Erreur entre sin et prédiction\")\n",
    "plot_err_test = ax2.scatter([p], [erreur_test[p]], s = 100)\n",
    "ax2.plot(np.arange(n), erreur_train, label = \"Erreur entre données et prédiction\")\n",
    "plot_err_train = ax2.scatter([p], [erreur_train[p]], s = 100)\n",
    "plt.tight_layout()\n",
    "\n",
    "@interact(p = (0, n-1))\n",
    "def regression(p = n//2):  \n",
    "    plot_pred.set_ydata(Y_plot[p])\n",
    "    plot_err_test.set_offsets([[p, erreur_test[p]]])\n",
    "    plot_err_train.set_offsets([p, erreur_train[p]])\n",
    "    plt.draw()"
   ]
  }
 ]
}