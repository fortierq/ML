{
 "metadata": {
  "language_info": {
   "codemirror_mode": {
    "name": "ipython",
    "version": 3
   },
   "file_extension": ".py",
   "mimetype": "text/x-python",
   "name": "python",
   "nbconvert_exporter": "python",
   "pygments_lexer": "ipython3",
   "version": "3.8.5-final"
  },
  "orig_nbformat": 2,
  "kernelspec": {
   "name": "python38264bit08d3409463dd4ead993216a5227d5b95",
   "display_name": "Python 3.8.2 64-bit"
  }
 },
 "nbformat": 4,
 "nbformat_minor": 2,
 "cells": [
  {
   "cell_type": "code",
   "execution_count": 1,
   "metadata": {},
   "outputs": [],
   "source": [
    "import numpy as np\n",
    "import matplotlib.pyplot as plt\n",
    "from ipywidgets import interact"
   ]
  },
  {
   "cell_type": "code",
   "execution_count": 2,
   "metadata": {},
   "outputs": [],
   "source": [
    "n = 10\n",
    "X = np.linspace(0, 4, n)\n",
    "Y = np.random.normal(np.sin(X), 0.5, size = (1, n))"
   ]
  },
  {
   "cell_type": "code",
   "execution_count": 3,
   "metadata": {},
   "outputs": [
    {
     "output_type": "display_data",
     "data": {
      "text/plain": "interactive(children=(IntSlider(value=5, description='p', max=9), Output()), _dom_classes=('widget-interact',)…",
      "application/vnd.jupyter.widget-view+json": {
       "version_major": 2,
       "version_minor": 0,
       "model_id": "a263b30e283f4f869d8f25c389a2c33d"
      }
     },
     "metadata": {}
    }
   ],
   "source": [
    "def normale_eq(Y, M, p):\n",
    "    return np.linalg.inv(M @ M.T + 0.01*np.eye(p)) @ M @ Y.T\n",
    "\n",
    "def f(W, X):\n",
    "    return np.sum(W[i]*X**i for i in range(len(W)))\n",
    "\n",
    "M = [np.array([X**k for k in range(p)]) for p in range(1, n+1)]\n",
    "W = [normale_eq(Y, M[p], p+1) for p in range(n)]\n",
    "X_plot = np.linspace(0, 4, 100)\n",
    "sinX = np.sin(X_plot)\n",
    "Y_plot = [f(W[p], X_plot) for p in range(n)]\n",
    "erreur_test = [np.sum((Y_plot[p] - sinX)**2) for p in range(n)]\n",
    "erreur_train = [np.sum((f(W[p], X) - Y)**2) for p in range(n)]\n",
    "\n",
    "@interact(p = (0, n-1))\n",
    "def regression(p = n//2):    \n",
    "    plt.figure(figsize=(20, 4))\n",
    "    plt.subplot(1, 2, 1)\n",
    "    plt.plot(X_plot, sinX, linestyle='dotted', color=\"red\", label = \"sin\")\n",
    "    plt.scatter(X, Y, label = \"Données\")\n",
    "    plt.plot(X_plot, Y_plot[p], label = \"Prédiction\")\n",
    "    plt.legend()\n",
    "    plt.subplot(1, 2, 2)\n",
    "    plt.plot(np.arange(n), erreur_test, label = \"Erreur entre sin et prédiction\")\n",
    "    plt.scatter([p], [erreur_test[p]], s = 100)\n",
    "    plt.plot(np.arange(n), erreur_train, label = \"Erreur entre données et prédictions\")\n",
    "    plt.scatter([p], [erreur_train[p]], s = 100)\n",
    "    plt.xlabel(\"p (degré du polynôme)\")\n",
    "    plt.legend()"
   ]
  },
  {
   "cell_type": "code",
   "execution_count": 25,
   "metadata": {},
   "outputs": [
    {
     "output_type": "display_data",
     "data": {
      "text/plain": "interactive(children=(IntSlider(value=5, description='p', max=10, min=1), FloatSlider(value=0.0, description='…",
      "application/vnd.jupyter.widget-view+json": {
       "version_major": 2,
       "version_minor": 0,
       "model_id": "825cbbd7128047a29e9205dd4a861908"
      }
     },
     "metadata": {}
    }
   ],
   "source": [
    "@interact(p = (1, n), l = (0, 1, 0.01))\n",
    "def regression(p, l = 0):    \n",
    "    M = np.array([X**k for k in range(p)])\n",
    "    Y_pred = np.linalg.inv(l*np.eye(p) + M @ M.T) @ M @ Y.T\n",
    "    X_pred = np.linspace(0, 4, 100)\n",
    "    plt.plot(X_pred, np.sum(Y_pred[i]*X_pred**i for i in range(p)))\n",
    "    plt.scatter(X, Y)"
   ]
  }
 ]
}