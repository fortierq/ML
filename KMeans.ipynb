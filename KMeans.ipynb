{
 "cells": [
  {
   "cell_type": "code",
   "execution_count": 6,
   "metadata": {},
   "outputs": [],
   "source": [
    "%%capture\n",
    "import matplotlib.pyplot as plt\n",
    "from celluloid import Camera # pour l'animation\n",
    "from IPython.display import HTML # pour la vidéo\n",
    "import numpy as np\n",
    "\n",
    "def ligne(p1, p2):\n",
    "    plt.plot([p1[0], p2[0]], [p1[1], p2[1]], \"b:\", linewidth = 1)\n",
    "\n",
    "def dist(p1, p2):\n",
    "    return np.sum((p1 - p2)**2)**.5\n",
    "    \n",
    "def kmeans(k, X, n):\n",
    "    '''\n",
    "    k: nombre de classes\n",
    "    X: données\n",
    "    n: nombre d'itérations\n",
    "    '''\n",
    "    Y = np.zeros((len(X)), dtype = np.int64) # classes\n",
    "    fig = plt.figure()\n",
    "    camera = Camera(fig)\n",
    "    rng = np.random.default_rng()\n",
    "    centres = rng.choice(X, size = k, replace = False) # centres choisis initialement parmi les données (d'autres choix sont possibles)\n",
    "    plt.scatter(X[:, 0], X[:, 1], c = \"blue\")\n",
    "    camera.snap()\n",
    "    plt.scatter(X[:, 0], X[:, 1], c = \"blue\")\n",
    "    plt.scatter(centres[:, 0], centres[:, 1], s = 200, c = \"orange\")\n",
    "    camera.snap()\n",
    "    for i in range(n):\n",
    "        plt.scatter(X[:, 0], X[:, 1], c = \"blue\")\n",
    "        plt.scatter(centres[:, 0], centres[:, 1], s = 200, c = \"orange\")\n",
    "        for j in range(len(X)):\n",
    "            Y[j] = np.argmin([dist(c, X[j]) for c in centres]) # X[j] est assigné au centre le plus proche\n",
    "            ligne(centres[Y[j]], X[j])\n",
    "        camera.snap()\n",
    "        centres = np.array([X[Y == i].mean(0) for i in range(k)])\n",
    "    return camera.animate(interval = 2000, repeat = True, repeat_delay = 500)\n",
    "            \n",
    "X1 = np.array([2, 2]) + np.random.randn(10, 2)\n",
    "X2 = np.array([-2, -2]) + np.random.randn(10, 2)\n",
    "X3 = np.array([-2, 2]) + np.random.randn(10, 2)\n",
    "X4 = np.array([2, -2]) + np.random.randn(10, 2)\n",
    "\n",
    "anim = kmeans(4, np.concatenate((X1, X2, X3, X4)), 5)"
   ]
  },
  {
   "cell_type": "code",
   "execution_count": 7,
   "metadata": {},
   "outputs": [
    {
     "ename": "RuntimeError",
     "evalue": "Requested MovieWriter (ffmpeg) not available",
     "output_type": "error",
     "traceback": [
      "\u001b[1;31m---------------------------------------------------------------------------\u001b[0m",
      "\u001b[1;31mRuntimeError\u001b[0m                              Traceback (most recent call last)",
      "\u001b[1;32m<ipython-input-7-f885f4acf935>\u001b[0m in \u001b[0;36m<module>\u001b[1;34m\u001b[0m\n\u001b[1;32m----> 1\u001b[1;33m \u001b[0mHTML\u001b[0m\u001b[1;33m(\u001b[0m\u001b[0manim\u001b[0m\u001b[1;33m.\u001b[0m\u001b[0mto_html5_video\u001b[0m\u001b[1;33m(\u001b[0m\u001b[1;33m)\u001b[0m\u001b[1;33m)\u001b[0m\u001b[1;33m\u001b[0m\u001b[1;33m\u001b[0m\u001b[0m\n\u001b[0m",
      "\u001b[1;32m~\\anaconda3\\lib\\site-packages\\matplotlib\\animation.py\u001b[0m in \u001b[0;36mto_html5_video\u001b[1;34m(self, embed_limit)\u001b[0m\n\u001b[0;32m   1326\u001b[0m                 \u001b[1;31m# We create a writer manually so that we can get the\u001b[0m\u001b[1;33m\u001b[0m\u001b[1;33m\u001b[0m\u001b[1;33m\u001b[0m\u001b[0m\n\u001b[0;32m   1327\u001b[0m                 \u001b[1;31m# appropriate size for the tag\u001b[0m\u001b[1;33m\u001b[0m\u001b[1;33m\u001b[0m\u001b[1;33m\u001b[0m\u001b[0m\n\u001b[1;32m-> 1328\u001b[1;33m                 \u001b[0mWriter\u001b[0m \u001b[1;33m=\u001b[0m \u001b[0mwriters\u001b[0m\u001b[1;33m[\u001b[0m\u001b[0mrcParams\u001b[0m\u001b[1;33m[\u001b[0m\u001b[1;34m'animation.writer'\u001b[0m\u001b[1;33m]\u001b[0m\u001b[1;33m]\u001b[0m\u001b[1;33m\u001b[0m\u001b[1;33m\u001b[0m\u001b[0m\n\u001b[0m\u001b[0;32m   1329\u001b[0m                 writer = Writer(codec='h264',\n\u001b[0;32m   1330\u001b[0m                                 \u001b[0mbitrate\u001b[0m\u001b[1;33m=\u001b[0m\u001b[0mrcParams\u001b[0m\u001b[1;33m[\u001b[0m\u001b[1;34m'animation.bitrate'\u001b[0m\u001b[1;33m]\u001b[0m\u001b[1;33m,\u001b[0m\u001b[1;33m\u001b[0m\u001b[1;33m\u001b[0m\u001b[0m\n",
      "\u001b[1;32m~\\anaconda3\\lib\\site-packages\\matplotlib\\animation.py\u001b[0m in \u001b[0;36m__getitem__\u001b[1;34m(self, name)\u001b[0m\n\u001b[0;32m    162\u001b[0m         \u001b[1;32mif\u001b[0m \u001b[0mself\u001b[0m\u001b[1;33m.\u001b[0m\u001b[0mis_available\u001b[0m\u001b[1;33m(\u001b[0m\u001b[0mname\u001b[0m\u001b[1;33m)\u001b[0m\u001b[1;33m:\u001b[0m\u001b[1;33m\u001b[0m\u001b[1;33m\u001b[0m\u001b[0m\n\u001b[0;32m    163\u001b[0m             \u001b[1;32mreturn\u001b[0m \u001b[0mself\u001b[0m\u001b[1;33m.\u001b[0m\u001b[0m_registered\u001b[0m\u001b[1;33m[\u001b[0m\u001b[0mname\u001b[0m\u001b[1;33m]\u001b[0m\u001b[1;33m\u001b[0m\u001b[1;33m\u001b[0m\u001b[0m\n\u001b[1;32m--> 164\u001b[1;33m         \u001b[1;32mraise\u001b[0m \u001b[0mRuntimeError\u001b[0m\u001b[1;33m(\u001b[0m\u001b[1;34mf\"Requested MovieWriter ({name}) not available\"\u001b[0m\u001b[1;33m)\u001b[0m\u001b[1;33m\u001b[0m\u001b[1;33m\u001b[0m\u001b[0m\n\u001b[0m\u001b[0;32m    165\u001b[0m \u001b[1;33m\u001b[0m\u001b[0m\n\u001b[0;32m    166\u001b[0m \u001b[1;33m\u001b[0m\u001b[0m\n",
      "\u001b[1;31mRuntimeError\u001b[0m: Requested MovieWriter (ffmpeg) not available"
     ]
    }
   ],
   "source": [
    "HTML(anim.to_html5_video())"
   ]
  }
 ],
 "metadata": {
  "kernelspec": {
   "display_name": "Python 3",
   "language": "python",
   "name": "python3"
  },
  "language_info": {
   "codemirror_mode": {
    "name": "ipython",
    "version": 3
   },
   "file_extension": ".py",
   "mimetype": "text/x-python",
   "name": "python",
   "nbconvert_exporter": "python",
   "pygments_lexer": "ipython3",
   "version": "3.8.3"
  }
 },
 "nbformat": 4,
 "nbformat_minor": 4
}
