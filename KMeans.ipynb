{
 "cells": [
  {
   "cell_type": "code",
   "execution_count": 9,
   "metadata": {},
   "outputs": [],
   "source": [
    "%%capture\n",
    "import matplotlib.pyplot as plt\n",
    "from celluloid import Camera # pour l'animation\n",
    "from IPython.display import HTML # pour la vidéo\n",
    "import numpy as np\n",
    "\n",
    "def ligne(p1, p2):\n",
    "    plt.plot([p1[0], p2[0]], [p1[1], p2[1]], \"b:\", linewidth = 1)\n",
    "\n",
    "def dist(p1, p2):\n",
    "    return np.sum((p1 - p2)**2)**.5\n",
    "    \n",
    "def kmeans(k, X, n):\n",
    "    '''\n",
    "    k: nombre de classes\n",
    "    X: données\n",
    "    n: nombre d'itérations\n",
    "    '''\n",
    "    Y = np.zeros((len(X)), dtype = np.int64) # classes\n",
    "    fig = plt.figure()\n",
    "    camera = Camera(fig)\n",
    "    rng = np.random.default_rng()\n",
    "    centres = rng.choice(X, size = k, replace = False) # centres choisis initialement parmi les données (d'autres choix sont possibles)\n",
    "    plt.scatter(X[:, 0], X[:, 1], c = \"blue\")\n",
    "    camera.snap()\n",
    "    plt.scatter(X[:, 0], X[:, 1], c = \"blue\")\n",
    "    plt.scatter(centres[:, 0], centres[:, 1], s = 200, c = \"orange\")\n",
    "    camera.snap()\n",
    "    for i in range(n):\n",
    "        plt.scatter(X[:, 0], X[:, 1], c = \"blue\")\n",
    "        plt.scatter(centres[:, 0], centres[:, 1], s = 200, c = \"orange\")\n",
    "        for j in range(len(X)):\n",
    "            Y[j] = np.argmin([dist(c, X[j]) for c in centres]) # X[j] est assigné au centre le plus proche\n",
    "            ligne(centres[Y[j]], X[j])\n",
    "        camera.snap()\n",
    "        centres = np.array([X[Y == i].mean(0) for i in range(k)])\n",
    "    return camera.animate(interval = 2000, repeat = True, repeat_delay = 500)\n",
    "            \n",
    "X1 = np.array([2, 2]) + np.random.randn(10, 2)\n",
    "X2 = np.array([-2, -2]) + np.random.randn(10, 2)\n",
    "X3 = np.array([-2, 2]) + np.random.randn(10, 2)\n",
    "X4 = np.array([2, -2]) + np.random.randn(10, 2)\n",
    "\n",
    "anim = kmeans(4, np.concatenate((X1, X2, X3, X4)), 5)"
   ]
  },
  {
   "cell_type": "code",
   "execution_count": null,
   "metadata": {},
   "outputs": [],
   "source": [
    "HTML(anim.to_html5_video())"
   ]
  }
 ],
 "metadata": {
  "kernelspec": {
   "display_name": "Python 3",
   "language": "python",
   "name": "python3"
  },
  "language_info": {
   "codemirror_mode": {
    "name": "ipython",
    "version": 3
   },
   "file_extension": ".py",
   "mimetype": "text/x-python",
   "name": "python",
   "nbconvert_exporter": "python",
   "pygments_lexer": "ipython3",
   "version": "3.8.3"
  }
 },
 "nbformat": 4,
 "nbformat_minor": 4
}
